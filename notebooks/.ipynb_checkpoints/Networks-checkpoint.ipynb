{
 "cells": [
  {
   "cell_type": "code",
   "execution_count": 1,
   "metadata": {
    "collapsed": true
   },
   "outputs": [],
   "source": [
    "import os\n",
    "import sys\n",
    "\n",
    "import functions.io\n",
    "import functions.graphs\n",
    "import config"
   ]
  },
  {
   "cell_type": "code",
   "execution_count": 2,
   "metadata": {
    "collapsed": true
   },
   "outputs": [],
   "source": [
    "def get_sample_status(x):\n",
    "    \"\"\"Convenience function to create column with sample status\"\"\"\n",
    "\n",
    "    status_int = int(x.split(\"_\")[2])\n",
    "    \n",
    "    if status_int <= 3:\n",
    "        status = 'CTRL'\n",
    "    elif 3 < status_int <= 6:\n",
    "        status = 'DIABETES'\n",
    "\n",
    "    return status\n",
    "\n",
    "\n",
    "def apply_color(x):\n",
    "    \"\"\"Convenience function to create a column of strings of colors\"\"\"\n",
    "\n",
    "    if x is np.nan:\n",
    "        col = 'black'\n",
    "    else:\n",
    "        col = 'red'\n",
    "\n",
    "    return col"
   ]
  },
  {
   "cell_type": "code",
   "execution_count": 3,
   "metadata": {
    "collapsed": true
   },
   "outputs": [],
   "source": [
    "data = functions.io.read_all_samples(config.Config.DATA_DIRECTORY)"
   ]
  },
  {
   "cell_type": "code",
   "execution_count": 4,
   "metadata": {
    "collapsed": true
   },
   "outputs": [],
   "source": [
    "samples = functions.io.get_sample_names(data)"
   ]
  },
  {
   "cell_type": "markdown",
   "metadata": {},
   "source": [
    "## Analyse Sample"
   ]
  },
  {
   "cell_type": "code",
   "execution_count": null,
   "metadata": {
    "collapsed": true
   },
   "outputs": [],
   "source": [
    "# choose the most frequent sequences and drop the rest\n",
    "max_seqs = config.Config.MAX_SEQS\n",
    "# join a pair of sequences only if they are within max_weight Levenshtein (edit) distance\n",
    "max_weight = config.Config.MAX_WEIGHT"
   ]
  },
  {
   "cell_type": "code",
   "execution_count": null,
   "metadata": {
    "collapsed": true,
    "scrolled": false
   },
   "outputs": [],
   "source": [
    "for i in range(len(samples)):\n",
    "    \n",
    "    sample_data = data[data['sample']==samples[i]]\n",
    "    seqs = sample_data['seq'].tolist()[0:max_seqs]\n",
    "    counts = sample_data['count'].tolist()\n",
    "\n",
    "    dists = functions.graphs.get_distances(seqs)\n",
    "    coords = functions.graphs.get_dimension_mapping(dists)\n",
    "\n",
    "    G = functions.graphs.get_graph(seqs, dists, max_weight=max_weight)\n",
    "    functions.graphs.plot_graph(G, coords, seqs, counts, config.Config.OUTPUT_DIRECTORY+samples[i])\n",
    "    \n",
    "    node_degrees = sorted(G.degree, key=lambda x: x[1], reverse=True)"
   ]
  },
  {
   "cell_type": "code",
   "execution_count": null,
   "metadata": {
    "collapsed": true
   },
   "outputs": [],
   "source": []
  }
 ],
 "metadata": {
  "kernelspec": {
   "display_name": "Python 3",
   "language": "python",
   "name": "python3"
  },
  "language_info": {
   "codemirror_mode": {
    "name": "ipython",
    "version": 3
   },
   "file_extension": ".py",
   "mimetype": "text/x-python",
   "name": "python",
   "nbconvert_exporter": "python",
   "pygments_lexer": "ipython3",
   "version": "3.6.6"
  }
 },
 "nbformat": 4,
 "nbformat_minor": 2
}
