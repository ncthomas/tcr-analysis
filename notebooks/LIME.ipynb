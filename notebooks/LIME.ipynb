{
 "cells": [
  {
   "cell_type": "code",
   "execution_count": null,
   "metadata": {
    "collapsed": true
   },
   "outputs": [],
   "source": [
    "import os\n",
    "import sys\n",
    "import warnings\n",
    "\n",
    "import pandas\n",
    "import numpy\n",
    "import matplotlib.pyplot\n",
    "import seaborn\n",
    "from sklearn.feature_extraction.text import TfidfVectorizer\n",
    "from sklearn.metrics import accuracy_score\n",
    "from sklearn.preprocessing import label_binarize\n",
    "from sklearn.linear_model import LogisticRegression\n",
    "from sklearn.model_selection import GridSearchCV, cross_val_predict, KFold, train_test_split\n",
    "import lime\n",
    "import lime.lime_tabular\n",
    "\n",
    "import functions.io\n",
    "import config\n",
    "\n",
    "warnings.simplefilter(action='ignore', category=FutureWarning)"
   ]
  },
  {
   "cell_type": "code",
   "execution_count": null,
   "metadata": {
    "collapsed": true
   },
   "outputs": [],
   "source": [
    "def get_sample_status(x):\n",
    "    \"\"\"Convenience function to create column with sample status\"\"\"\n",
    "\n",
    "    status_int = int(x.split(\"_\")[2])\n",
    "    \n",
    "    if status_int <= 3:\n",
    "        status = 'CTRL'\n",
    "    elif 3 < status_int <= 6:\n",
    "        status = 'DIABETES'\n",
    "\n",
    "    return status\n",
    "\n",
    "def get_sample_chain(x):\n",
    "    \"\"\"Convenience function to create column with sample chain (alpha or beta)\"\"\"\n",
    "\n",
    "    description = x.split(\"_\")\n",
    "    if 'alpha' in description:\n",
    "        chain = 'alpha'\n",
    "    elif 'beta' in description:\n",
    "        chain = 'beta'\n",
    "\n",
    "    return chain\n",
    "\n",
    "\n",
    "def apply_color(x):\n",
    "    \"\"\"Convenience function to create a column of strings of colors\"\"\"\n",
    "\n",
    "    if x is np.nan:\n",
    "        col = 'black'\n",
    "    else:\n",
    "        col = 'red'\n",
    "\n",
    "    return col"
   ]
  },
  {
   "cell_type": "code",
   "execution_count": null,
   "metadata": {
    "collapsed": true
   },
   "outputs": [],
   "source": [
    "def train_model(X_train, y_train, n=1):\n",
    "    \n",
    "    corpus = [seq for seq in X_train['seq'].tolist()]\n",
    "    text_model = TfidfVectorizer(analyzer='char', lowercase=False, ngram_range=(n, n))\n",
    "    matrix_train = text_model.fit_transform(corpus).todense()\n",
    "\n",
    "    model = LogisticRegression(random_state=123)\n",
    "    cv = KFold(n_splits=2, shuffle=True)\n",
    "    gs = GridSearchCV(estimator=model, param_grid={\"C\": [1, 10, 100]}, cv=cv)\n",
    "    gs.fit(matrix_train, y_train)\n",
    "    best_pred_model = gs.best_estimator_\n",
    "\n",
    "    return best_pred_model, text_model\n",
    "\n",
    "\n",
    "def get_tfidf_matrix(X, text_model):\n",
    "    \n",
    "    corpus = [seq for seq in X['seq'].tolist()]\n",
    "    matrix = text_model.transform(corpus).todense()\n",
    "\n",
    "    return matrix\n",
    "\n",
    "\n",
    "def test_model(best_pred_model, text_model, X_test, y_test, n=1):\n",
    "    \n",
    "    corpus = [seq for seq in X_test['seq'].tolist()]\n",
    "    matrix_test = text_model.transform(corpus).todense()\n",
    "\n",
    "    predictions = cross_val_predict(best_pred_model, matrix_test, y_test, cv=3)\n",
    "    score = accuracy_score(y_test, predictions)\n",
    "    score = numpy.round(100 * score, 2)\n",
    "\n",
    "    return score\n",
    "\n",
    "def get_feature_names(X, text_model, n=1):\n",
    "    \n",
    "    feature_names = [0] * len(text_model.vocabulary_.items())\n",
    "    for key, value in text_model.vocabulary_.items():\n",
    "        feature_names[value] = key\n",
    "\n",
    "    return feature_names"
   ]
  },
  {
   "cell_type": "code",
   "execution_count": null,
   "metadata": {
    "collapsed": true
   },
   "outputs": [],
   "source": [
    "data = functions.io.read_all_samples(config.Config.DATA_DIRECTORY)\n",
    "\n",
    "data['status'] = data['sample'].apply(lambda x: get_sample_status(x))\n",
    "samples = functions.io.get_sample_names(data)\n",
    "\n",
    "# Build model\n",
    "\n",
    "X = data[['seq']]\n",
    "y = label_binarize(data['status'], classes=['CTRL', 'DIABETES']).ravel()\n",
    "\n",
    "X_train, X_test, y_train, y_test = train_test_split(X, y, test_size=0.5, random_state=123)\n",
    "X_train = X_train.reset_index().drop('index', axis=1)\n",
    "X_test = X_test.reset_index().drop('index', axis=1)"
   ]
  },
  {
   "cell_type": "code",
   "execution_count": null,
   "metadata": {},
   "outputs": [],
   "source": [
    "n_grams = config.Config.N_GRAMS\n",
    "best_model, text_model = train_model(X_train, y_train, n=n_grams)\n",
    "score = test_model(best_model, text_model, X_test, y_test, n=n_grams)\n",
    "print(\"Accuracy =\", score, \"%\")\n",
    "\n",
    "matrix_test = get_tfidf_matrix(X_test, text_model)\n",
    "feature_names = get_feature_names(X_train, text_model, n_grams)\n",
    "arr = numpy.array(matrix_test)"
   ]
  },
  {
   "cell_type": "code",
   "execution_count": null,
   "metadata": {
    "collapsed": true
   },
   "outputs": [],
   "source": [
    "explainer = lime.lime_tabular.LimeTabularExplainer(arr, feature_names=feature_names, class_names=['CTRL', 'DIABETES'])"
   ]
  },
  {
   "cell_type": "code",
   "execution_count": null,
   "metadata": {},
   "outputs": [],
   "source": [
    "# choose a cdr3 from the test set ...\n",
    "choose_sample = 2\n",
    "X_test.iloc[choose_sample]['seq']\n",
    "exp = explainer.explain_instance(arr[choose_sample], best_model.predict_proba, num_features=len(feature_names))\n",
    "exp.show_in_notebook(show_table=True)"
   ]
  },
  {
   "cell_type": "code",
   "execution_count": null,
   "metadata": {},
   "outputs": [],
   "source": [
    "# or create your own cdr3 sequence ...\n",
    "seq = 'CASSEDTQYF'\n",
    "df_seq = pandas.DataFrame({'seq': [seq]})\n",
    "matrix_seq = numpy.array(get_tfidf_matrix(df_seq, text_model))[0]\n",
    "\n",
    "exp = explainer.explain_instance(matrix_seq, best_model.predict_proba, num_features=len(feature_names))\n",
    "exp.show_in_notebook(show_table=True)"
   ]
  },
  {
   "cell_type": "code",
   "execution_count": null,
   "metadata": {
    "collapsed": true
   },
   "outputs": [],
   "source": []
  }
 ],
 "metadata": {
  "kernelspec": {
   "display_name": "Python 3",
   "language": "python",
   "name": "python3"
  },
  "language_info": {
   "codemirror_mode": {
    "name": "ipython",
    "version": 3
   },
   "file_extension": ".py",
   "mimetype": "text/x-python",
   "name": "python",
   "nbconvert_exporter": "python",
   "pygments_lexer": "ipython3",
   "version": "3.6.6"
  }
 },
 "nbformat": 4,
 "nbformat_minor": 2
}
