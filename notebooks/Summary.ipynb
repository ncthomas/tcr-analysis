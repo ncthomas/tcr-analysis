{
 "cells": [
  {
   "cell_type": "code",
   "execution_count": null,
   "metadata": {
    "collapsed": true
   },
   "outputs": [],
   "source": [
    "import sys\n",
    "\n",
    "import pandas\n",
    "import matplotlib.pyplot\n",
    "import seaborn\n",
    "import numpy\n",
    "\n",
    "import functions.io\n",
    "import functions.metrics\n",
    "import functions.graphs\n",
    "import config\n",
    "\n",
    "seaborn.set(style='white', font_scale=1.25)\n",
    "%matplotlib inline\n",
    "\n",
    "def get_sample_status(x):\n",
    "    \"\"\"Convenience function to create column with sample status\"\"\"\n",
    "\n",
    "    status_int = int(x.split(\"_\")[2])\n",
    "    \n",
    "    if status_int <= 3:\n",
    "        status = 'CTRL'\n",
    "    elif 3 < status_int <= 6:\n",
    "        status = 'DIABETES'\n",
    "\n",
    "    return status\n",
    "\n",
    "\n",
    "def apply_color(x):\n",
    "    \"\"\"Convenience function to create a column of strings of colors\"\"\"\n",
    "\n",
    "    if x is np.nan:\n",
    "        col = 'black'\n",
    "    else:\n",
    "        col = 'red'\n",
    "\n",
    "    return col"
   ]
  },
  {
   "cell_type": "code",
   "execution_count": null,
   "metadata": {
    "collapsed": true
   },
   "outputs": [],
   "source": [
    "data = functions.io.read_all_samples(config.Config.DATA_DIRECTORY)"
   ]
  },
  {
   "cell_type": "code",
   "execution_count": null,
   "metadata": {
    "collapsed": true
   },
   "outputs": [],
   "source": [
    "## Distribution of Frequencies\n",
    "\n",
    "samples = functions.io.get_sample_names(data)\n",
    "functions.metrics.plot_frequency_distribution(data, samples, config.Config.OUTPUT_DIRECTORY)"
   ]
  },
  {
   "cell_type": "code",
   "execution_count": null,
   "metadata": {},
   "outputs": [],
   "source": [
    "## Jaccard Index\n",
    "\n",
    "functions.metrics.pairwise_jaccard_heatmap(data, samples, config.Config.OUTPUT_DIRECTORY)"
   ]
  },
  {
   "cell_type": "code",
   "execution_count": null,
   "metadata": {
    "collapsed": true
   },
   "outputs": [],
   "source": [
    "## Shannon Entropy\n",
    "\n",
    "shannon_results = functions.metrics.get_shannon_entropy(data, samples)\n",
    "\n",
    "shannon_results['status'] = shannon_results['sample'].apply(lambda x: get_sample_status(x))\n",
    "\n",
    "fig, ax = matplotlib.pyplot.subplots(figsize=(2.5, 5))\n",
    "seaborn.swarmplot(x='status', y='shannon', data=shannon_results, size=10, hue='status')\n",
    "ax.set_xlabel('')\n",
    "ax.set_ylabel('Shannon Entropy')\n",
    "ax.legend().set_visible(False)\n",
    "seaborn.despine()\n",
    "matplotlib.pyplot.savefig(config.Config.OUTPUT_DIRECTORY+'shannon.png', bbox_inches='tight')\n",
    "matplotlib.pyplot.close()"
   ]
  },
  {
   "cell_type": "code",
   "execution_count": null,
   "metadata": {
    "collapsed": true
   },
   "outputs": [],
   "source": [
    "## Compare CDR3s in samples with known specificities from VDJdb\n",
    "\n",
    "chain = config.Config.CHAIN\n",
    "\n",
    "specs = pandas.read_csv('data/specificities.tsv', sep='\\t')[['Gene', 'CDR3', 'V', 'J', 'MHC A', 'Epitope species']]\n",
    "specs = specs.replace('HomoSapiens', numpy.nan)\n",
    "\n",
    "if chain == 'alpha':\n",
    "    specs = specs[(specs['Gene'] == 'TRA') & (specs['MHC A'] == 'HLA-A*02')]\n",
    "elif chain == 'beta':\n",
    "    specs = specs[(specs['Gene'] == 'TRB') & (specs['MHC A'] == 'HLA-A*02')]\n",
    "\n",
    "seq_specs = functions.metrics.match_CDR3s_to_known_specificities(data, specs)\n",
    "functions.metrics.plot_frequency_distribution_with_specificities(seq_specs, config.Config.OUTPUT_DIRECTORY, top_n=50)"
   ]
  },
  {
   "cell_type": "code",
   "execution_count": null,
   "metadata": {
    "collapsed": true
   },
   "outputs": [],
   "source": []
  }
 ],
 "metadata": {
  "kernelspec": {
   "display_name": "Python 3",
   "language": "python",
   "name": "python3"
  },
  "language_info": {
   "codemirror_mode": {
    "name": "ipython",
    "version": 3
   },
   "file_extension": ".py",
   "mimetype": "text/x-python",
   "name": "python",
   "nbconvert_exporter": "python",
   "pygments_lexer": "ipython3",
   "version": "3.6.6"
  }
 },
 "nbformat": 4,
 "nbformat_minor": 2
}
