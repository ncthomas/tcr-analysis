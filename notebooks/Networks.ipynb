{
 "cells": [
  {
   "cell_type": "code",
   "execution_count": null,
   "metadata": {
    "collapsed": true
   },
   "outputs": [],
   "source": [
    "import os\n",
    "import sys\n",
    "\n",
    "import networkx\n",
    "import matplotlib\n",
    "import matplotlib.pyplot\n",
    "\n",
    "import functions.io\n",
    "import functions.graphs\n",
    "import config\n",
    "\n",
    "%matplotlib inline"
   ]
  },
  {
   "cell_type": "code",
   "execution_count": null,
   "metadata": {
    "collapsed": true
   },
   "outputs": [],
   "source": [
    "def get_sample_status(x):\n",
    "    \"\"\"Convenience function to create column with sample status\"\"\"\n",
    "\n",
    "    status_int = int(x.split(\"_\")[2])\n",
    "    \n",
    "    if status_int <= 3:\n",
    "        status = 'CTRL'\n",
    "    elif 3 < status_int <= 6:\n",
    "        status = 'DIABETES'\n",
    "\n",
    "    return status\n",
    "\n",
    "\n",
    "def apply_color(x):\n",
    "    \"\"\"Convenience function to create a column of strings of colors\"\"\"\n",
    "\n",
    "    if x is np.nan:\n",
    "        col = 'black'\n",
    "    else:\n",
    "        col = 'red'\n",
    "\n",
    "    return col"
   ]
  },
  {
   "cell_type": "code",
   "execution_count": null,
   "metadata": {
    "collapsed": true
   },
   "outputs": [],
   "source": [
    "data = functions.io.read_all_samples(config.Config.DATA_DIRECTORY)"
   ]
  },
  {
   "cell_type": "code",
   "execution_count": null,
   "metadata": {
    "collapsed": true
   },
   "outputs": [],
   "source": [
    "samples = functions.io.get_sample_names(data)"
   ]
  },
  {
   "cell_type": "markdown",
   "metadata": {},
   "source": [
    "## Analyse Sample"
   ]
  },
  {
   "cell_type": "code",
   "execution_count": null,
   "metadata": {
    "collapsed": true
   },
   "outputs": [],
   "source": [
    "# choose the most frequent sequences and drop the rest\n",
    "max_seqs = config.Config.MAX_SEQS\n",
    "# join a pair of sequences only if they are within max_weight Levenshtein (edit) distance\n",
    "max_weight = config.Config.MAX_WEIGHT"
   ]
  },
  {
   "cell_type": "code",
   "execution_count": null,
   "metadata": {
    "collapsed": true,
    "scrolled": false
   },
   "outputs": [],
   "source": [
    "# Plot networks for each sample\n",
    "\n",
    "for i in range(len(samples)):\n",
    "    \n",
    "    sample_data = data[data['sample']==samples[i]]\n",
    "    seqs = sample_data['seq'].tolist()[0:max_seqs]\n",
    "    counts = sample_data['count'].tolist()\n",
    "\n",
    "    dists = functions.graphs.get_distances(seqs)\n",
    "    coords = functions.graphs.get_dimension_mapping(dists)\n",
    "\n",
    "    G = functions.graphs.get_graph(seqs, dists, max_weight=max_weight)\n",
    "    functions.graphs.plot_graph(G, coords, seqs, counts, config.Config.OUTPUT_DIRECTORY+samples[i])"
   ]
  },
  {
   "cell_type": "code",
   "execution_count": null,
   "metadata": {},
   "outputs": [],
   "source": [
    "# Calculate the \"connectedness\" of each sample\n",
    "# i.e. how many distinct components (subgraphs) exist\n",
    "# when edges are drawn between a pair of CDR3 sequences\n",
    "# only if the Levenshtein distance is less than a given\n",
    "# value w - analysis is run for values between 0 and 9\n",
    "# and these values are shown on the axis in the plot below\n",
    "\n",
    "connectedness = {}\n",
    "mw = 10\n",
    "\n",
    "for i in range(len(samples)):\n",
    "    \n",
    "    sample_data = data[data['sample']==samples[i]]\n",
    "    seqs = sample_data['seq'].tolist()\n",
    "    counts = sample_data['count'].tolist()\n",
    "\n",
    "    dists = functions.graphs.get_distances(seqs)\n",
    "    \n",
    "    diversity = {}\n",
    "\n",
    "    for w in range(0,mw):\n",
    "\n",
    "        G = functions.graphs.get_graph(seqs, dists, max_weight=w)\n",
    "        num_components = len(list(networkx.connected_components(G)))\n",
    "\n",
    "        diversity[w] = num_components/len(seqs)\n",
    "\n",
    "    x = [k for k in diversity.keys()]\n",
    "    y = [v for v in diversity.values()]\n",
    "    \n",
    "    connectedness[samples[i]] = (x,y)"
   ]
  },
  {
   "cell_type": "code",
   "execution_count": null,
   "metadata": {},
   "outputs": [],
   "source": [
    "# Plot the results of the above\n",
    "\n",
    "matplotlib.rcParams.update({'font.size': 16})\n",
    "fig, ax = matplotlib.pyplot.subplots(figsize=(10,10))\n",
    "\n",
    "for k, v in connectedness.items():\n",
    "    \n",
    "    if int(k.split('_')[2]) <= 3:\n",
    "        x = v[0]\n",
    "        y = v[1]\n",
    "        ax.plot(x,y,color='black',lw=2)\n",
    "    else:\n",
    "        x = v[0]\n",
    "        y = v[1]\n",
    "        ax.plot(x,y,color='red',lw=2)\n",
    "    \n",
    "ax.xaxis.set_major_locator(matplotlib.ticker.MaxNLocator(integer=True))\n",
    "ax.spines['right'].set_visible(False)\n",
    "ax.spines['top'].set_visible(False)\n",
    "ax.set(xlabel='Levenshtein Distance Joining CDR3 Sequences', ylabel='Proportion of Components in Graph')\n",
    "custom_lines = [matplotlib.lines.Line2D([0], [0], color='black', lw=2),\n",
    "                matplotlib.lines.Line2D([0], [0], color='red', lw=2)]\n",
    "ax.legend(custom_lines, ['CTRL', 'DIABETES'])\n",
    "matplotlib.pyplot.show()"
   ]
  },
  {
   "cell_type": "code",
   "execution_count": null,
   "metadata": {},
   "outputs": [],
   "source": []
  }
 ],
 "metadata": {
  "kernelspec": {
   "display_name": "Python 3",
   "language": "python",
   "name": "python3"
  },
  "language_info": {
   "codemirror_mode": {
    "name": "ipython",
    "version": 3
   },
   "file_extension": ".py",
   "mimetype": "text/x-python",
   "name": "python",
   "nbconvert_exporter": "python",
   "pygments_lexer": "ipython3",
   "version": "3.6.6"
  }
 },
 "nbformat": 4,
 "nbformat_minor": 2
}
